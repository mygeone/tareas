{
 "cells": [
  {
   "cell_type": "markdown",
   "metadata": {},
   "source": [
    "# Respuesta a enunciado N°1"
   ]
  },
  {
   "cell_type": "code",
   "execution_count": 1,
   "metadata": {},
   "outputs": [
    {
     "name": "stdout",
     "output_type": "stream",
     "text": [
      "      Ano  independientes  asalariados\n",
      "11   2011             NaN          NaN\n",
      "23   2012       -0.026396     0.053409\n",
      "35   2013       -0.007322     0.026924\n",
      "47   2014        0.084532     0.011679\n",
      "59   2015       -0.001768     0.015163\n",
      "71   2016        0.018741     0.014671\n",
      "83   2017        0.096861    -0.020398\n",
      "95   2018        0.012505     0.044637\n",
      "107  2019        0.019451     0.014900\n",
      "119  2020       -0.013013     0.033235\n",
      "131  2021       -0.129571    -0.078194\n"
     ]
    }
   ],
   "source": [
    "#se crea un Dataframe que tenga la variación porcentual anual de personas para las categorías independientes y asalariados \n",
    "#importar librerias\n",
    "import pandas as pd\n",
    "import plotly\n",
    "import plotly.express as px\n",
    "import plotly.graph_objects as go\n",
    "import plotly.subplots as make_subplots\n",
    "\n",
    "#se importan las bases de excell\n",
    "DF_EMP = pd.read_excel('EMPLEO.xlsx')\n",
    "DF_EXP = pd.read_excel('EXP.xlsx')\n",
    "DF_IMP = pd.read_excel('IMP.xlsx')\n",
    "DF_IMACEC = pd.read_excel('IMACEC.xlsx')\n",
    "\n",
    "#luego filtramos los datos\n",
    "filterTrimestre = DF_EMP['Trimestre'] == 'Dic - Feb'\n",
    "df = DF_EMP[filterTrimestre]\n",
    "6\n",
    "#se preparan los datos\n",
    "ano = df['Ano']\n",
    "independientes = df['Independientes']\n",
    "asalariados = df['Asalariados']\n",
    "variacion = {\n",
    "    'Ano' : ano,\n",
    "    'independientes' : independientes,\n",
    "    'asalariados' : asalariados\n",
    "}\n",
    "\n",
    "#se crea el DataFrame a partir del dict\n",
    "variacionDF = pd.DataFrame.from_dict(variacion)\n",
    "\n",
    "#Calculamos variacion anual \n",
    "variacionDF['independientes'] = independientes.pct_change()\n",
    "variacionDF['asalariados'] = asalariados.pct_change()\n",
    "print(variacionDF)"
   ]
  },
  {
   "cell_type": "markdown",
   "metadata": {},
   "source": [
    "# Respuesta a enunciado N°2"
   ]
  },
  {
   "cell_type": "code",
   "execution_count": 2,
   "metadata": {},
   "outputs": [
    {
     "name": "stdout",
     "output_type": "stream",
     "text": [
      "Descrip       Comercio      Imacec  Imacec a costo de factores  \\\n",
      "1996-01-01   34.460062   47.104201                   48.262202   \n",
      "1996-02-01   35.603255   47.845904                   48.948986   \n",
      "1996-03-01   35.723395   47.850285                   49.061016   \n",
      "1996-04-01   36.067168   47.850344                   49.026654   \n",
      "1996-05-01   36.223066   47.902395                   49.062990   \n",
      "...                ...         ...                         ...   \n",
      "2021-01-01  125.749300  112.784887                  112.281302   \n",
      "2021-02-01  125.823288  113.988091                  113.357142   \n",
      "2021-03-01  124.126904  112.535383                  111.870357   \n",
      "2021-04-01  122.981002  110.961629                  110.329831   \n",
      "2021-05-01  139.495050  113.848748                  112.438244   \n",
      "\n",
      "Descrip     Imacec no minero  Producción de bienes   Servicios  \\\n",
      "1996-01-01         44.348444             64.530047   39.630956   \n",
      "1996-02-01         44.915919             65.145224   40.208151   \n",
      "1996-03-01         45.002195             65.386660   40.234324   \n",
      "1996-04-01         44.883391             64.782001   40.447838   \n",
      "1996-05-01         45.041932             64.573496   40.599194   \n",
      "...                      ...                   ...         ...   \n",
      "2021-01-01        114.292622            104.234748  115.778738   \n",
      "2021-02-01        115.747724            104.249030  117.878868   \n",
      "2021-03-01        113.907237            104.523092  115.048134   \n",
      "2021-04-01        111.575725            104.969086  111.871076   \n",
      "2021-05-01        115.446537            105.141976  112.760289   \n",
      "\n",
      "Descrip           Industria        Minería        Resto de bienes  \n",
      "1996-01-01        64.890434      60.881204              56.574145  \n",
      "1996-02-01        64.494062      64.434273              56.959145  \n",
      "1996-03-01        65.428817      62.810905              57.212470  \n",
      "1996-04-01        64.060112      65.167926              56.313283  \n",
      "1996-05-01        64.719168      63.063147              56.032128  \n",
      "...                     ...            ...                    ...  \n",
      "2021-01-01       105.163215     100.751049             106.750190  \n",
      "2021-02-01       106.056125     100.241790             106.583096  \n",
      "2021-03-01       105.007766     101.418540             107.017194  \n",
      "2021-04-01       104.461500     104.961653             105.210068  \n",
      "2021-05-01       105.373949     101.191991             108.663918  \n",
      "\n",
      "[305 rows x 9 columns]\n"
     ]
    }
   ],
   "source": [
    "#Usando el DataFrame del IMACEC, se transpone para que las fechas queden en las filas y las categorías como columnas\n",
    "transpose = DF_IMACEC.pivot_table(columns=['Descrip'])\n",
    "print(transpose)"
   ]
  },
  {
   "cell_type": "markdown",
   "metadata": {},
   "source": [
    "# Respuesta a enunciado N°3"
   ]
  },
  {
   "cell_type": "code",
   "execution_count": 3,
   "metadata": {},
   "outputs": [
    {
     "name": "stdout",
     "output_type": "stream",
     "text": [
      "     Ano    Imacec  independientes  asalariados\n",
      "0   2011  0.074745             NaN          NaN\n",
      "1   2012  0.050965       -0.026396     0.053409\n",
      "2   2013  0.048731       -0.007322     0.026924\n",
      "3   2014  0.022693        0.084532     0.011679\n",
      "4   2015  0.026551       -0.001768     0.015163\n",
      "5   2016  0.017887        0.018741     0.014671\n",
      "6   2017  0.006489        0.096861    -0.020398\n",
      "7   2018  0.039132        0.012505     0.044637\n",
      "8   2019  0.020324        0.019451     0.014900\n",
      "9   2020  0.013094       -0.013013     0.033235\n",
      "10  2021 -0.008203       -0.129571    -0.078194\n"
     ]
    }
   ],
   "source": [
    "#Al DataFrame del punto 1 se le agrega la variación porcentual anual del imacec del punto 2 usando un inner join.\n",
    "# se preparan los datos\n",
    "measures = {\n",
    "    'Ano' : [],\n",
    "    'Imacec' : []\n",
    "}\n",
    "\n",
    "dates = transpose.index\n",
    "for date in dates:\n",
    "    if(date.day == 1 and date.month == 1):\n",
    "        measures['Imacec'].append(transpose.loc[date]['Imacec'])\n",
    "        measures['Ano'].append(date.year)\n",
    "        pass\n",
    "\n",
    "# se crea el DataFrame a partir del dict \n",
    "imacecDF = pd.DataFrame.from_dict(measures)\n",
    "\n",
    "# debemos calcular la variacion\n",
    "imacecDF['Imacec'] = imacecDF['Imacec'].pct_change()\n",
    "\n",
    "#creamos el join\n",
    "innerJoin = pd.merge(imacecDF,variacionDF,on='Ano')\n",
    "\n",
    "#En este caso el primer valor de Imacec no es NaN, a diferencia de indep. y asalariados\n",
    "innerJoin.loc[innerJoin.Ano == '2011', 'Imacec']  = float('nan')\n",
    "print(innerJoin)"
   ]
  },
  {
   "cell_type": "markdown",
   "metadata": {},
   "source": [
    "# Respuesta a enunciado 4"
   ]
  },
  {
   "cell_type": "code",
   "execution_count": 4,
   "metadata": {},
   "outputs": [],
   "source": [
    "# Utilizando plotly se crea un subplot que contenga:\n",
    "#Gráfico con la variación anual de independientes,asalariados e IMACEC. \n",
    "#se crea un gráfico de scatter que tenga el total de exportaciones en el eje horizontal y el total de importaciones \n",
    "#(CIF) en el vertical.\n",
    "#Dentro de las exportaciones se seleccionará: total exportaciones, minería, agropecuario-silvícola y pesquero, \n",
    "#industriales. Utilizando la primera fecha (enero-2009) como base 100, se crea un mapa de calor que en el eje \n",
    "#horizontal tenga las fechas y en el vertical las 4 categorías."
   ]
  },
  {
   "cell_type": "code",
   "execution_count": null,
   "metadata": {},
   "outputs": [],
   "source": []
  },
  {
   "cell_type": "code",
   "execution_count": 11,
   "metadata": {},
   "outputs": [
    {
     "data": {
      "application/vnd.plotly.v1+json": {
       "config": {
        "plotlyServerURL": "https://plot.ly"
       },
       "data": [
        {
         "line": {
          "color": "darkviolet"
         },
         "name": "Imacec",
         "type": "scatter",
         "x": [
          2011,
          2012,
          2013,
          2014,
          2015,
          2016,
          2017,
          2018,
          2019,
          2020,
          2021
         ],
         "y": [
          0.07474507219965698,
          0.050964533746134855,
          0.048731174295146173,
          0.022693364904639468,
          0.026550946401893594,
          0.017886829766660117,
          0.006489169570347286,
          0.03913249712723177,
          0.020323571556189135,
          0.013094446403538296,
          -0.008202913371047726
         ]
        },
        {
         "line": {
          "color": "maroon"
         },
         "name": "Asalariados",
         "type": "scatter",
         "x": [
          2011,
          2012,
          2013,
          2014,
          2015,
          2016,
          2017,
          2018,
          2019,
          2020,
          2021
         ],
         "y": [
          null,
          0.053408784227819694,
          0.026923698783136496,
          0.011678748851197573,
          0.015163374514512773,
          0.014670887298711355,
          -0.020397767448619875,
          0.044636745728325655,
          0.014900093081811283,
          0.033234552662521955,
          -0.07819400803016685
         ]
        },
        {
         "line": {
          "color": "cyan"
         },
         "name": "Independientes",
         "type": "scatter",
         "x": [
          2011,
          2012,
          2013,
          2014,
          2015,
          2016,
          2017,
          2018,
          2019,
          2020,
          2021
         ],
         "y": [
          null,
          -0.02639649491389473,
          -0.00732157469152428,
          0.08453206102101962,
          -0.0017682355974768527,
          0.018740976125350528,
          0.09686141587410813,
          0.012504832741758065,
          0.019451328526384204,
          -0.013012946494462274,
          -0.12957085809408797
         ]
        }
       ],
       "layout": {
        "height": 800,
        "legend": {
         "traceorder": "reversed"
        },
        "template": {
         "data": {
          "bar": [
           {
            "error_x": {
             "color": "#2a3f5f"
            },
            "error_y": {
             "color": "#2a3f5f"
            },
            "marker": {
             "line": {
              "color": "#E5ECF6",
              "width": 0.5
             },
             "pattern": {
              "fillmode": "overlay",
              "size": 10,
              "solidity": 0.2
             }
            },
            "type": "bar"
           }
          ],
          "barpolar": [
           {
            "marker": {
             "line": {
              "color": "#E5ECF6",
              "width": 0.5
             },
             "pattern": {
              "fillmode": "overlay",
              "size": 10,
              "solidity": 0.2
             }
            },
            "type": "barpolar"
           }
          ],
          "carpet": [
           {
            "aaxis": {
             "endlinecolor": "#2a3f5f",
             "gridcolor": "white",
             "linecolor": "white",
             "minorgridcolor": "white",
             "startlinecolor": "#2a3f5f"
            },
            "baxis": {
             "endlinecolor": "#2a3f5f",
             "gridcolor": "white",
             "linecolor": "white",
             "minorgridcolor": "white",
             "startlinecolor": "#2a3f5f"
            },
            "type": "carpet"
           }
          ],
          "choropleth": [
           {
            "colorbar": {
             "outlinewidth": 0,
             "ticks": ""
            },
            "type": "choropleth"
           }
          ],
          "contour": [
           {
            "colorbar": {
             "outlinewidth": 0,
             "ticks": ""
            },
            "colorscale": [
             [
              0,
              "#0d0887"
             ],
             [
              0.1111111111111111,
              "#46039f"
             ],
             [
              0.2222222222222222,
              "#7201a8"
             ],
             [
              0.3333333333333333,
              "#9c179e"
             ],
             [
              0.4444444444444444,
              "#bd3786"
             ],
             [
              0.5555555555555556,
              "#d8576b"
             ],
             [
              0.6666666666666666,
              "#ed7953"
             ],
             [
              0.7777777777777778,
              "#fb9f3a"
             ],
             [
              0.8888888888888888,
              "#fdca26"
             ],
             [
              1,
              "#f0f921"
             ]
            ],
            "type": "contour"
           }
          ],
          "contourcarpet": [
           {
            "colorbar": {
             "outlinewidth": 0,
             "ticks": ""
            },
            "type": "contourcarpet"
           }
          ],
          "heatmap": [
           {
            "colorbar": {
             "outlinewidth": 0,
             "ticks": ""
            },
            "colorscale": [
             [
              0,
              "#0d0887"
             ],
             [
              0.1111111111111111,
              "#46039f"
             ],
             [
              0.2222222222222222,
              "#7201a8"
             ],
             [
              0.3333333333333333,
              "#9c179e"
             ],
             [
              0.4444444444444444,
              "#bd3786"
             ],
             [
              0.5555555555555556,
              "#d8576b"
             ],
             [
              0.6666666666666666,
              "#ed7953"
             ],
             [
              0.7777777777777778,
              "#fb9f3a"
             ],
             [
              0.8888888888888888,
              "#fdca26"
             ],
             [
              1,
              "#f0f921"
             ]
            ],
            "type": "heatmap"
           }
          ],
          "heatmapgl": [
           {
            "colorbar": {
             "outlinewidth": 0,
             "ticks": ""
            },
            "colorscale": [
             [
              0,
              "#0d0887"
             ],
             [
              0.1111111111111111,
              "#46039f"
             ],
             [
              0.2222222222222222,
              "#7201a8"
             ],
             [
              0.3333333333333333,
              "#9c179e"
             ],
             [
              0.4444444444444444,
              "#bd3786"
             ],
             [
              0.5555555555555556,
              "#d8576b"
             ],
             [
              0.6666666666666666,
              "#ed7953"
             ],
             [
              0.7777777777777778,
              "#fb9f3a"
             ],
             [
              0.8888888888888888,
              "#fdca26"
             ],
             [
              1,
              "#f0f921"
             ]
            ],
            "type": "heatmapgl"
           }
          ],
          "histogram": [
           {
            "marker": {
             "pattern": {
              "fillmode": "overlay",
              "size": 10,
              "solidity": 0.2
             }
            },
            "type": "histogram"
           }
          ],
          "histogram2d": [
           {
            "colorbar": {
             "outlinewidth": 0,
             "ticks": ""
            },
            "colorscale": [
             [
              0,
              "#0d0887"
             ],
             [
              0.1111111111111111,
              "#46039f"
             ],
             [
              0.2222222222222222,
              "#7201a8"
             ],
             [
              0.3333333333333333,
              "#9c179e"
             ],
             [
              0.4444444444444444,
              "#bd3786"
             ],
             [
              0.5555555555555556,
              "#d8576b"
             ],
             [
              0.6666666666666666,
              "#ed7953"
             ],
             [
              0.7777777777777778,
              "#fb9f3a"
             ],
             [
              0.8888888888888888,
              "#fdca26"
             ],
             [
              1,
              "#f0f921"
             ]
            ],
            "type": "histogram2d"
           }
          ],
          "histogram2dcontour": [
           {
            "colorbar": {
             "outlinewidth": 0,
             "ticks": ""
            },
            "colorscale": [
             [
              0,
              "#0d0887"
             ],
             [
              0.1111111111111111,
              "#46039f"
             ],
             [
              0.2222222222222222,
              "#7201a8"
             ],
             [
              0.3333333333333333,
              "#9c179e"
             ],
             [
              0.4444444444444444,
              "#bd3786"
             ],
             [
              0.5555555555555556,
              "#d8576b"
             ],
             [
              0.6666666666666666,
              "#ed7953"
             ],
             [
              0.7777777777777778,
              "#fb9f3a"
             ],
             [
              0.8888888888888888,
              "#fdca26"
             ],
             [
              1,
              "#f0f921"
             ]
            ],
            "type": "histogram2dcontour"
           }
          ],
          "mesh3d": [
           {
            "colorbar": {
             "outlinewidth": 0,
             "ticks": ""
            },
            "type": "mesh3d"
           }
          ],
          "parcoords": [
           {
            "line": {
             "colorbar": {
              "outlinewidth": 0,
              "ticks": ""
             }
            },
            "type": "parcoords"
           }
          ],
          "pie": [
           {
            "automargin": true,
            "type": "pie"
           }
          ],
          "scatter": [
           {
            "marker": {
             "colorbar": {
              "outlinewidth": 0,
              "ticks": ""
             }
            },
            "type": "scatter"
           }
          ],
          "scatter3d": [
           {
            "line": {
             "colorbar": {
              "outlinewidth": 0,
              "ticks": ""
             }
            },
            "marker": {
             "colorbar": {
              "outlinewidth": 0,
              "ticks": ""
             }
            },
            "type": "scatter3d"
           }
          ],
          "scattercarpet": [
           {
            "marker": {
             "colorbar": {
              "outlinewidth": 0,
              "ticks": ""
             }
            },
            "type": "scattercarpet"
           }
          ],
          "scattergeo": [
           {
            "marker": {
             "colorbar": {
              "outlinewidth": 0,
              "ticks": ""
             }
            },
            "type": "scattergeo"
           }
          ],
          "scattergl": [
           {
            "marker": {
             "colorbar": {
              "outlinewidth": 0,
              "ticks": ""
             }
            },
            "type": "scattergl"
           }
          ],
          "scattermapbox": [
           {
            "marker": {
             "colorbar": {
              "outlinewidth": 0,
              "ticks": ""
             }
            },
            "type": "scattermapbox"
           }
          ],
          "scatterpolar": [
           {
            "marker": {
             "colorbar": {
              "outlinewidth": 0,
              "ticks": ""
             }
            },
            "type": "scatterpolar"
           }
          ],
          "scatterpolargl": [
           {
            "marker": {
             "colorbar": {
              "outlinewidth": 0,
              "ticks": ""
             }
            },
            "type": "scatterpolargl"
           }
          ],
          "scatterternary": [
           {
            "marker": {
             "colorbar": {
              "outlinewidth": 0,
              "ticks": ""
             }
            },
            "type": "scatterternary"
           }
          ],
          "surface": [
           {
            "colorbar": {
             "outlinewidth": 0,
             "ticks": ""
            },
            "colorscale": [
             [
              0,
              "#0d0887"
             ],
             [
              0.1111111111111111,
              "#46039f"
             ],
             [
              0.2222222222222222,
              "#7201a8"
             ],
             [
              0.3333333333333333,
              "#9c179e"
             ],
             [
              0.4444444444444444,
              "#bd3786"
             ],
             [
              0.5555555555555556,
              "#d8576b"
             ],
             [
              0.6666666666666666,
              "#ed7953"
             ],
             [
              0.7777777777777778,
              "#fb9f3a"
             ],
             [
              0.8888888888888888,
              "#fdca26"
             ],
             [
              1,
              "#f0f921"
             ]
            ],
            "type": "surface"
           }
          ],
          "table": [
           {
            "cells": {
             "fill": {
              "color": "#EBF0F8"
             },
             "line": {
              "color": "white"
             }
            },
            "header": {
             "fill": {
              "color": "#C8D4E3"
             },
             "line": {
              "color": "white"
             }
            },
            "type": "table"
           }
          ]
         },
         "layout": {
          "annotationdefaults": {
           "arrowcolor": "#2a3f5f",
           "arrowhead": 0,
           "arrowwidth": 1
          },
          "autotypenumbers": "strict",
          "coloraxis": {
           "colorbar": {
            "outlinewidth": 0,
            "ticks": ""
           }
          },
          "colorscale": {
           "diverging": [
            [
             0,
             "#8e0152"
            ],
            [
             0.1,
             "#c51b7d"
            ],
            [
             0.2,
             "#de77ae"
            ],
            [
             0.3,
             "#f1b6da"
            ],
            [
             0.4,
             "#fde0ef"
            ],
            [
             0.5,
             "#f7f7f7"
            ],
            [
             0.6,
             "#e6f5d0"
            ],
            [
             0.7,
             "#b8e186"
            ],
            [
             0.8,
             "#7fbc41"
            ],
            [
             0.9,
             "#4d9221"
            ],
            [
             1,
             "#276419"
            ]
           ],
           "sequential": [
            [
             0,
             "#0d0887"
            ],
            [
             0.1111111111111111,
             "#46039f"
            ],
            [
             0.2222222222222222,
             "#7201a8"
            ],
            [
             0.3333333333333333,
             "#9c179e"
            ],
            [
             0.4444444444444444,
             "#bd3786"
            ],
            [
             0.5555555555555556,
             "#d8576b"
            ],
            [
             0.6666666666666666,
             "#ed7953"
            ],
            [
             0.7777777777777778,
             "#fb9f3a"
            ],
            [
             0.8888888888888888,
             "#fdca26"
            ],
            [
             1,
             "#f0f921"
            ]
           ],
           "sequentialminus": [
            [
             0,
             "#0d0887"
            ],
            [
             0.1111111111111111,
             "#46039f"
            ],
            [
             0.2222222222222222,
             "#7201a8"
            ],
            [
             0.3333333333333333,
             "#9c179e"
            ],
            [
             0.4444444444444444,
             "#bd3786"
            ],
            [
             0.5555555555555556,
             "#d8576b"
            ],
            [
             0.6666666666666666,
             "#ed7953"
            ],
            [
             0.7777777777777778,
             "#fb9f3a"
            ],
            [
             0.8888888888888888,
             "#fdca26"
            ],
            [
             1,
             "#f0f921"
            ]
           ]
          },
          "colorway": [
           "#636efa",
           "#EF553B",
           "#00cc96",
           "#ab63fa",
           "#FFA15A",
           "#19d3f3",
           "#FF6692",
           "#B6E880",
           "#FF97FF",
           "#FECB52"
          ],
          "font": {
           "color": "#2a3f5f"
          },
          "geo": {
           "bgcolor": "white",
           "lakecolor": "white",
           "landcolor": "#E5ECF6",
           "showlakes": true,
           "showland": true,
           "subunitcolor": "white"
          },
          "hoverlabel": {
           "align": "left"
          },
          "hovermode": "closest",
          "mapbox": {
           "style": "light"
          },
          "paper_bgcolor": "white",
          "plot_bgcolor": "#E5ECF6",
          "polar": {
           "angularaxis": {
            "gridcolor": "white",
            "linecolor": "white",
            "ticks": ""
           },
           "bgcolor": "#E5ECF6",
           "radialaxis": {
            "gridcolor": "white",
            "linecolor": "white",
            "ticks": ""
           }
          },
          "scene": {
           "xaxis": {
            "backgroundcolor": "#E5ECF6",
            "gridcolor": "white",
            "gridwidth": 2,
            "linecolor": "white",
            "showbackground": true,
            "ticks": "",
            "zerolinecolor": "white"
           },
           "yaxis": {
            "backgroundcolor": "#E5ECF6",
            "gridcolor": "white",
            "gridwidth": 2,
            "linecolor": "white",
            "showbackground": true,
            "ticks": "",
            "zerolinecolor": "white"
           },
           "zaxis": {
            "backgroundcolor": "#E5ECF6",
            "gridcolor": "white",
            "gridwidth": 2,
            "linecolor": "white",
            "showbackground": true,
            "ticks": "",
            "zerolinecolor": "white"
           }
          },
          "shapedefaults": {
           "line": {
            "color": "#2a3f5f"
           }
          },
          "ternary": {
           "aaxis": {
            "gridcolor": "white",
            "linecolor": "white",
            "ticks": ""
           },
           "baxis": {
            "gridcolor": "white",
            "linecolor": "white",
            "ticks": ""
           },
           "bgcolor": "#E5ECF6",
           "caxis": {
            "gridcolor": "white",
            "linecolor": "white",
            "ticks": ""
           }
          },
          "title": {
           "x": 0.05
          },
          "xaxis": {
           "automargin": true,
           "gridcolor": "white",
           "linecolor": "white",
           "ticks": "",
           "title": {
            "standoff": 15
           },
           "zerolinecolor": "white",
           "zerolinewidth": 2
          },
          "yaxis": {
           "automargin": true,
           "gridcolor": "white",
           "linecolor": "white",
           "ticks": "",
           "title": {
            "standoff": 15
           },
           "zerolinecolor": "white",
           "zerolinewidth": 2
          }
         }
        },
        "title": {
         "text": "Variacion Anual de independientes, asalariados e Imacec"
        },
        "width": 2000,
        "xaxis": {
         "title": {
          "text": "Fecha"
         }
        },
        "yaxis": {
         "domain": [
          0,
          1
         ],
         "title": {
          "text": "Variacion Anual"
         }
        },
        "yaxis2": {
         "domain": [
          0.33,
          0.66
         ]
        },
        "yaxis3": {
         "domain": [
          0.66,
          1
         ]
        }
       }
      }
     },
     "metadata": {},
     "output_type": "display_data"
    },
    {
     "data": {
      "application/vnd.plotly.v1+json": {
       "config": {
        "plotlyServerURL": "https://plot.ly"
       },
       "data": [
        {
         "hovertemplate": "exp=%{x}<br>imp=%{y}<extra></extra>",
         "legendgroup": "",
         "marker": {
          "color": "#ffa500",
          "symbol": "circle"
         },
         "mode": "markers",
         "name": "",
         "orientation": "v",
         "showlegend": false,
         "type": "scatter",
         "x": [
          3651.80849692495,
          3435.95420738657,
          4298.75394258631,
          4367.54291412886,
          4278.9118486886,
          4446.65066747502,
          4750.69779286385,
          4671.37362813302,
          4403.69727807441,
          5744.33456291571,
          5316.96138251228,
          6095.98475960709,
          5067.48756203163,
          5004.14265261865,
          5544.00374822544,
          5361.02776135559,
          5673.54900562434,
          5364.49611811767,
          6005.98994409771,
          6322.50525306277,
          6140.25125632428,
          6342.72958231188,
          6521.78205780658,
          7760.56393420219,
          6490.45265289185,
          6003.58406347181,
          7719.00300335978,
          7265.08069112281,
          7408.3750318785,
          6697.25774190935,
          6386.91679321128,
          6347.79550902662,
          6540.6084619021,
          6679.77403352891,
          6750.51463693776,
          7148.48123533556,
          6466.18279704602,
          6330.67030421101,
          7067.4470019358,
          6567.7175959132,
          6420.29536703274,
          6762.68026325066,
          5933.64298672135,
          5779.98360197075,
          5692.74297979709,
          7368.37783915524,
          6546.3894345877,
          7126.8600452036,
          6821.89947789863,
          5575.72134893878,
          6188.53297040344,
          6772.8869515938,
          7021.13233825523,
          6348.79134460119,
          6428.86232661,
          6420.73250826909,
          5840.9163342783,
          6987.30263572135,
          6068.15849605854,
          6295.00041571819,
          5490.69039002478,
          6188.57572296701,
          7292.41510651577,
          6670.11246242753,
          6906.39288387318,
          6125.43141251372,
          6257.79847733466,
          5857.99043552999,
          5775.9515960463,
          6073.47579872048,
          5588.07700434073,
          6837.78653931326,
          5979.8378533772,
          5122.45279538724,
          6001.87606237167,
          5801.36672948166,
          4987.68417578998,
          5298.09670100126,
          4939.29563107101,
          4655.1916571474,
          4640.99808266827,
          4702.93188536291,
          4800.03681747218,
          5105.32191862917,
          5099.24084368818,
          4801.59386659919,
          5169.86650947384,
          5062.40852029751,
          5101.38500256798,
          4646.81327663781,
          4599.67000141928,
          4977.34107695909,
          4938.78938591778,
          4790.82150488403,
          5248.3947282602,
          6282.00763726488,
          5553.53619521038,
          4627.42102390569,
          5495.40851342308,
          5044.42514123748,
          5770.63740454111,
          5565.58119859821,
          5453.32503840417,
          6230.70493491168,
          5874.88230262292,
          6056.0877996906,
          6126.70470886508,
          7024.48124848712,
          6620.02979470775,
          6275.11308724566,
          6481.91467937263,
          6257.05975922712,
          6465.72647954527,
          6200.51681212645,
          5972.42956350058,
          6165.5994020678,
          5443.25985025408,
          6466.1141626828,
          5899.4877351614,
          6461.11957832889,
          6713.71993739837,
          5448.119312797,
          6080.37718666393,
          5697.89319645701,
          6128.39269596533,
          5191.69546658728,
          5612.99604077207,
          5906.60474180047,
          5186.32037279306,
          5153.10831344863,
          5216.71383949258,
          6426.62248640321,
          6510.13766781516,
          4971.77319831154,
          5716.54198480818,
          5849.72428276461,
          5868.35740832228,
          6127.30746798606,
          6238.31912708948,
          5779.24731074822,
          5969.78590249478,
          6455.18236371567,
          6571.60789236519,
          7427.15207965262,
          7094.46558289411,
          7141.93083337498,
          7660.78496508302,
          8114.45534713357,
          7920.04732462611,
          7445.4715520452
         ],
         "xaxis": "x",
         "y": [
          3412.56160327667,
          3013.03536114928,
          3131.83458523495,
          3426.07222629089,
          2957.70562445071,
          3195.58139504246,
          3961.42273630901,
          3446.15975041369,
          3450.0399217571,
          4142.07593957234,
          4265.97316111147,
          4441.74622724086,
          4136.12693928437,
          3892.93256141592,
          4492.90288449917,
          4503.47397828718,
          4856.27142919179,
          4553.41587720747,
          5316.69375436633,
          5338.79864857775,
          5131.15687690971,
          5587.86662678722,
          5515.69353078618,
          5682.5340575032,
          5154.84369581479,
          5311.2831501924,
          6563.18380228961,
          5911.85087418574,
          6321.56965933957,
          6182.10481111785,
          6458.19623518141,
          6840.58091863923,
          6744.68824138501,
          6113.92133729237,
          6825.53407790758,
          6421.60499767553,
          5940.93205044746,
          5873.25295296415,
          6417.60954341464,
          6091.73041267668,
          6987.00743941535,
          6114.41037133091,
          6674.49255055242,
          7545.10689961559,
          6473.00070846095,
          8322.70010349377,
          6597.29715252858,
          7054.83518554226,
          7046.56197458708,
          6135.87381572042,
          6064.69127654081,
          6786.56265526707,
          7094.91213481433,
          6122.04845912832,
          6957.4181198946,
          7143.06261573368,
          6181.68877208547,
          7109.59813311471,
          6410.58012849343,
          6299.94659428107,
          6463.82878011822,
          5734.92944996426,
          5997.49931312022,
          6195.62387579704,
          5788.27448788185,
          5990.34444806389,
          6449.21370110629,
          5984.94434677843,
          5796.09560066622,
          6153.20956192931,
          5670.28586131244,
          6627.92423904283,
          5385.77810051875,
          4804.18125286967,
          5486.61671697801,
          5076.33014449945,
          4562.22282971328,
          5043.79041179222,
          5658.96370365451,
          5333.70876760899,
          5344.51773347189,
          5463.8557771907,
          4825.85784834835,
          5402.02624818931,
          4534.99354953146,
          4281.75565713892,
          5035.43527506066,
          4574.93936049015,
          4843.48160072778,
          4578.45929615294,
          4992.08741560536,
          5602.08038607018,
          5048.84633494221,
          5050.8545247389,
          5166.29975488157,
          5666.47689283894,
          5209.62386705804,
          4734.19010371738,
          5569.07196660399,
          4773.7610762145,
          5125.21419944985,
          5627.52993019347,
          5316.77519328934,
          5915.2310062742,
          5351.5179462015,
          5755.22964132981,
          5865.74745035528,
          5986.24053506359,
          5813.17198160792,
          5391.11600794622,
          6214.06705273826,
          5806.07580517464,
          6415.45201768501,
          6321.82823305882,
          6093.02664429391,
          6919.72353035496,
          5879.1486194377,
          7281.66615743874,
          5860.28953872468,
          6689.00523435442,
          6002.82843150254,
          5610.89874551739,
          5867.15258397044,
          5672.13667300016,
          6369.77707766892,
          5238.8787565338,
          6177.64785857598,
          6179.9229947983,
          5562.86055524818,
          5871.19139489868,
          5636.26436429494,
          5698.61322491927,
          5849.38811969131,
          4588.28329638546,
          4719.83477035865,
          4522.4548882136,
          4095.69762642094,
          4225.38125947074,
          5068.53961791156,
          4814.63321500119,
          4940.99758456544,
          5185.88183269614,
          5054.19882317501,
          6160.71903596677,
          5753.26299956814,
          6191.00554272623,
          7431.81716223847,
          6569.94292628459,
          7159.12449154694,
          6912.14484594365
         ],
         "yaxis": "y"
        }
       ],
       "layout": {
        "height": 800,
        "legend": {
         "tracegroupgap": 0
        },
        "shapes": [
         {
          "type": "line",
          "x0": 0,
          "x1": 1,
          "xref": "paper",
          "y0": 0,
          "y1": 1,
          "yref": "paper"
         }
        ],
        "template": {
         "data": {
          "bar": [
           {
            "error_x": {
             "color": "#2a3f5f"
            },
            "error_y": {
             "color": "#2a3f5f"
            },
            "marker": {
             "line": {
              "color": "#E5ECF6",
              "width": 0.5
             },
             "pattern": {
              "fillmode": "overlay",
              "size": 10,
              "solidity": 0.2
             }
            },
            "type": "bar"
           }
          ],
          "barpolar": [
           {
            "marker": {
             "line": {
              "color": "#E5ECF6",
              "width": 0.5
             },
             "pattern": {
              "fillmode": "overlay",
              "size": 10,
              "solidity": 0.2
             }
            },
            "type": "barpolar"
           }
          ],
          "carpet": [
           {
            "aaxis": {
             "endlinecolor": "#2a3f5f",
             "gridcolor": "white",
             "linecolor": "white",
             "minorgridcolor": "white",
             "startlinecolor": "#2a3f5f"
            },
            "baxis": {
             "endlinecolor": "#2a3f5f",
             "gridcolor": "white",
             "linecolor": "white",
             "minorgridcolor": "white",
             "startlinecolor": "#2a3f5f"
            },
            "type": "carpet"
           }
          ],
          "choropleth": [
           {
            "colorbar": {
             "outlinewidth": 0,
             "ticks": ""
            },
            "type": "choropleth"
           }
          ],
          "contour": [
           {
            "colorbar": {
             "outlinewidth": 0,
             "ticks": ""
            },
            "colorscale": [
             [
              0,
              "#0d0887"
             ],
             [
              0.1111111111111111,
              "#46039f"
             ],
             [
              0.2222222222222222,
              "#7201a8"
             ],
             [
              0.3333333333333333,
              "#9c179e"
             ],
             [
              0.4444444444444444,
              "#bd3786"
             ],
             [
              0.5555555555555556,
              "#d8576b"
             ],
             [
              0.6666666666666666,
              "#ed7953"
             ],
             [
              0.7777777777777778,
              "#fb9f3a"
             ],
             [
              0.8888888888888888,
              "#fdca26"
             ],
             [
              1,
              "#f0f921"
             ]
            ],
            "type": "contour"
           }
          ],
          "contourcarpet": [
           {
            "colorbar": {
             "outlinewidth": 0,
             "ticks": ""
            },
            "type": "contourcarpet"
           }
          ],
          "heatmap": [
           {
            "colorbar": {
             "outlinewidth": 0,
             "ticks": ""
            },
            "colorscale": [
             [
              0,
              "#0d0887"
             ],
             [
              0.1111111111111111,
              "#46039f"
             ],
             [
              0.2222222222222222,
              "#7201a8"
             ],
             [
              0.3333333333333333,
              "#9c179e"
             ],
             [
              0.4444444444444444,
              "#bd3786"
             ],
             [
              0.5555555555555556,
              "#d8576b"
             ],
             [
              0.6666666666666666,
              "#ed7953"
             ],
             [
              0.7777777777777778,
              "#fb9f3a"
             ],
             [
              0.8888888888888888,
              "#fdca26"
             ],
             [
              1,
              "#f0f921"
             ]
            ],
            "type": "heatmap"
           }
          ],
          "heatmapgl": [
           {
            "colorbar": {
             "outlinewidth": 0,
             "ticks": ""
            },
            "colorscale": [
             [
              0,
              "#0d0887"
             ],
             [
              0.1111111111111111,
              "#46039f"
             ],
             [
              0.2222222222222222,
              "#7201a8"
             ],
             [
              0.3333333333333333,
              "#9c179e"
             ],
             [
              0.4444444444444444,
              "#bd3786"
             ],
             [
              0.5555555555555556,
              "#d8576b"
             ],
             [
              0.6666666666666666,
              "#ed7953"
             ],
             [
              0.7777777777777778,
              "#fb9f3a"
             ],
             [
              0.8888888888888888,
              "#fdca26"
             ],
             [
              1,
              "#f0f921"
             ]
            ],
            "type": "heatmapgl"
           }
          ],
          "histogram": [
           {
            "marker": {
             "pattern": {
              "fillmode": "overlay",
              "size": 10,
              "solidity": 0.2
             }
            },
            "type": "histogram"
           }
          ],
          "histogram2d": [
           {
            "colorbar": {
             "outlinewidth": 0,
             "ticks": ""
            },
            "colorscale": [
             [
              0,
              "#0d0887"
             ],
             [
              0.1111111111111111,
              "#46039f"
             ],
             [
              0.2222222222222222,
              "#7201a8"
             ],
             [
              0.3333333333333333,
              "#9c179e"
             ],
             [
              0.4444444444444444,
              "#bd3786"
             ],
             [
              0.5555555555555556,
              "#d8576b"
             ],
             [
              0.6666666666666666,
              "#ed7953"
             ],
             [
              0.7777777777777778,
              "#fb9f3a"
             ],
             [
              0.8888888888888888,
              "#fdca26"
             ],
             [
              1,
              "#f0f921"
             ]
            ],
            "type": "histogram2d"
           }
          ],
          "histogram2dcontour": [
           {
            "colorbar": {
             "outlinewidth": 0,
             "ticks": ""
            },
            "colorscale": [
             [
              0,
              "#0d0887"
             ],
             [
              0.1111111111111111,
              "#46039f"
             ],
             [
              0.2222222222222222,
              "#7201a8"
             ],
             [
              0.3333333333333333,
              "#9c179e"
             ],
             [
              0.4444444444444444,
              "#bd3786"
             ],
             [
              0.5555555555555556,
              "#d8576b"
             ],
             [
              0.6666666666666666,
              "#ed7953"
             ],
             [
              0.7777777777777778,
              "#fb9f3a"
             ],
             [
              0.8888888888888888,
              "#fdca26"
             ],
             [
              1,
              "#f0f921"
             ]
            ],
            "type": "histogram2dcontour"
           }
          ],
          "mesh3d": [
           {
            "colorbar": {
             "outlinewidth": 0,
             "ticks": ""
            },
            "type": "mesh3d"
           }
          ],
          "parcoords": [
           {
            "line": {
             "colorbar": {
              "outlinewidth": 0,
              "ticks": ""
             }
            },
            "type": "parcoords"
           }
          ],
          "pie": [
           {
            "automargin": true,
            "type": "pie"
           }
          ],
          "scatter": [
           {
            "marker": {
             "colorbar": {
              "outlinewidth": 0,
              "ticks": ""
             }
            },
            "type": "scatter"
           }
          ],
          "scatter3d": [
           {
            "line": {
             "colorbar": {
              "outlinewidth": 0,
              "ticks": ""
             }
            },
            "marker": {
             "colorbar": {
              "outlinewidth": 0,
              "ticks": ""
             }
            },
            "type": "scatter3d"
           }
          ],
          "scattercarpet": [
           {
            "marker": {
             "colorbar": {
              "outlinewidth": 0,
              "ticks": ""
             }
            },
            "type": "scattercarpet"
           }
          ],
          "scattergeo": [
           {
            "marker": {
             "colorbar": {
              "outlinewidth": 0,
              "ticks": ""
             }
            },
            "type": "scattergeo"
           }
          ],
          "scattergl": [
           {
            "marker": {
             "colorbar": {
              "outlinewidth": 0,
              "ticks": ""
             }
            },
            "type": "scattergl"
           }
          ],
          "scattermapbox": [
           {
            "marker": {
             "colorbar": {
              "outlinewidth": 0,
              "ticks": ""
             }
            },
            "type": "scattermapbox"
           }
          ],
          "scatterpolar": [
           {
            "marker": {
             "colorbar": {
              "outlinewidth": 0,
              "ticks": ""
             }
            },
            "type": "scatterpolar"
           }
          ],
          "scatterpolargl": [
           {
            "marker": {
             "colorbar": {
              "outlinewidth": 0,
              "ticks": ""
             }
            },
            "type": "scatterpolargl"
           }
          ],
          "scatterternary": [
           {
            "marker": {
             "colorbar": {
              "outlinewidth": 0,
              "ticks": ""
             }
            },
            "type": "scatterternary"
           }
          ],
          "surface": [
           {
            "colorbar": {
             "outlinewidth": 0,
             "ticks": ""
            },
            "colorscale": [
             [
              0,
              "#0d0887"
             ],
             [
              0.1111111111111111,
              "#46039f"
             ],
             [
              0.2222222222222222,
              "#7201a8"
             ],
             [
              0.3333333333333333,
              "#9c179e"
             ],
             [
              0.4444444444444444,
              "#bd3786"
             ],
             [
              0.5555555555555556,
              "#d8576b"
             ],
             [
              0.6666666666666666,
              "#ed7953"
             ],
             [
              0.7777777777777778,
              "#fb9f3a"
             ],
             [
              0.8888888888888888,
              "#fdca26"
             ],
             [
              1,
              "#f0f921"
             ]
            ],
            "type": "surface"
           }
          ],
          "table": [
           {
            "cells": {
             "fill": {
              "color": "#EBF0F8"
             },
             "line": {
              "color": "white"
             }
            },
            "header": {
             "fill": {
              "color": "#C8D4E3"
             },
             "line": {
              "color": "white"
             }
            },
            "type": "table"
           }
          ]
         },
         "layout": {
          "annotationdefaults": {
           "arrowcolor": "#2a3f5f",
           "arrowhead": 0,
           "arrowwidth": 1
          },
          "autotypenumbers": "strict",
          "coloraxis": {
           "colorbar": {
            "outlinewidth": 0,
            "ticks": ""
           }
          },
          "colorscale": {
           "diverging": [
            [
             0,
             "#8e0152"
            ],
            [
             0.1,
             "#c51b7d"
            ],
            [
             0.2,
             "#de77ae"
            ],
            [
             0.3,
             "#f1b6da"
            ],
            [
             0.4,
             "#fde0ef"
            ],
            [
             0.5,
             "#f7f7f7"
            ],
            [
             0.6,
             "#e6f5d0"
            ],
            [
             0.7,
             "#b8e186"
            ],
            [
             0.8,
             "#7fbc41"
            ],
            [
             0.9,
             "#4d9221"
            ],
            [
             1,
             "#276419"
            ]
           ],
           "sequential": [
            [
             0,
             "#0d0887"
            ],
            [
             0.1111111111111111,
             "#46039f"
            ],
            [
             0.2222222222222222,
             "#7201a8"
            ],
            [
             0.3333333333333333,
             "#9c179e"
            ],
            [
             0.4444444444444444,
             "#bd3786"
            ],
            [
             0.5555555555555556,
             "#d8576b"
            ],
            [
             0.6666666666666666,
             "#ed7953"
            ],
            [
             0.7777777777777778,
             "#fb9f3a"
            ],
            [
             0.8888888888888888,
             "#fdca26"
            ],
            [
             1,
             "#f0f921"
            ]
           ],
           "sequentialminus": [
            [
             0,
             "#0d0887"
            ],
            [
             0.1111111111111111,
             "#46039f"
            ],
            [
             0.2222222222222222,
             "#7201a8"
            ],
            [
             0.3333333333333333,
             "#9c179e"
            ],
            [
             0.4444444444444444,
             "#bd3786"
            ],
            [
             0.5555555555555556,
             "#d8576b"
            ],
            [
             0.6666666666666666,
             "#ed7953"
            ],
            [
             0.7777777777777778,
             "#fb9f3a"
            ],
            [
             0.8888888888888888,
             "#fdca26"
            ],
            [
             1,
             "#f0f921"
            ]
           ]
          },
          "colorway": [
           "#636efa",
           "#EF553B",
           "#00cc96",
           "#ab63fa",
           "#FFA15A",
           "#19d3f3",
           "#FF6692",
           "#B6E880",
           "#FF97FF",
           "#FECB52"
          ],
          "font": {
           "color": "#2a3f5f"
          },
          "geo": {
           "bgcolor": "white",
           "lakecolor": "white",
           "landcolor": "#E5ECF6",
           "showlakes": true,
           "showland": true,
           "subunitcolor": "white"
          },
          "hoverlabel": {
           "align": "left"
          },
          "hovermode": "closest",
          "mapbox": {
           "style": "light"
          },
          "paper_bgcolor": "white",
          "plot_bgcolor": "#E5ECF6",
          "polar": {
           "angularaxis": {
            "gridcolor": "white",
            "linecolor": "white",
            "ticks": ""
           },
           "bgcolor": "#E5ECF6",
           "radialaxis": {
            "gridcolor": "white",
            "linecolor": "white",
            "ticks": ""
           }
          },
          "scene": {
           "xaxis": {
            "backgroundcolor": "#E5ECF6",
            "gridcolor": "white",
            "gridwidth": 2,
            "linecolor": "white",
            "showbackground": true,
            "ticks": "",
            "zerolinecolor": "white"
           },
           "yaxis": {
            "backgroundcolor": "#E5ECF6",
            "gridcolor": "white",
            "gridwidth": 2,
            "linecolor": "white",
            "showbackground": true,
            "ticks": "",
            "zerolinecolor": "white"
           },
           "zaxis": {
            "backgroundcolor": "#E5ECF6",
            "gridcolor": "white",
            "gridwidth": 2,
            "linecolor": "white",
            "showbackground": true,
            "ticks": "",
            "zerolinecolor": "white"
           }
          },
          "shapedefaults": {
           "line": {
            "color": "#2a3f5f"
           }
          },
          "ternary": {
           "aaxis": {
            "gridcolor": "white",
            "linecolor": "white",
            "ticks": ""
           },
           "baxis": {
            "gridcolor": "white",
            "linecolor": "white",
            "ticks": ""
           },
           "bgcolor": "#E5ECF6",
           "caxis": {
            "gridcolor": "white",
            "linecolor": "white",
            "ticks": ""
           }
          },
          "title": {
           "x": 0.05
          },
          "xaxis": {
           "automargin": true,
           "gridcolor": "white",
           "linecolor": "white",
           "ticks": "",
           "title": {
            "standoff": 15
           },
           "zerolinecolor": "white",
           "zerolinewidth": 2
          },
          "yaxis": {
           "automargin": true,
           "gridcolor": "white",
           "linecolor": "white",
           "ticks": "",
           "title": {
            "standoff": 15
           },
           "zerolinecolor": "white",
           "zerolinewidth": 2
          }
         }
        },
        "title": {
         "text": "Scatter Exportaciones vs Importaciones "
        },
        "width": 800,
        "xaxis": {
         "anchor": "y",
         "domain": [
          0,
          1
         ],
         "title": {
          "text": "exp"
         }
        },
        "yaxis": {
         "anchor": "x",
         "domain": [
          0,
          1
         ],
         "title": {
          "text": "imp"
         }
        }
       }
      }
     },
     "metadata": {},
     "output_type": "display_data"
    },
    {
     "name": "stdout",
     "output_type": "stream",
     "text": [
      "['#636EFA', '#EF553B', '#00CC96', '#AB63FA', '#FFA15A', '#19D3F3', '#FF6692', '#B6E880', '#FF97FF', '#FECB52']\n"
     ]
    },
    {
     "data": {
      "application/vnd.plotly.v1+json": {
       "config": {
        "plotlyServerURL": "https://plot.ly"
       },
       "data": [
        {
         "coloraxis": "coloraxis",
         "hovertemplate": "Fechas: %{x}<br>Categorias: %{y}<br>Exportaciones: %{z}<extra></extra>",
         "name": "0",
         "texttemplate": "%{z}",
         "type": "heatmap",
         "x": [
          "Reg",
          "Descripción series",
          "2009-01-01T00:00:00",
          "2009-02-01T00:00:00",
          "2009-03-01T00:00:00",
          "2009-04-01T00:00:00",
          "2009-05-01T00:00:00",
          "2009-06-01T00:00:00",
          "2009-07-01T00:00:00",
          "2009-08-01T00:00:00",
          "2009-09-01T00:00:00",
          "2009-10-01T00:00:00",
          "2009-11-01T00:00:00",
          "2009-12-01T00:00:00",
          "2010-01-01T00:00:00",
          "2010-02-01T00:00:00",
          "2010-03-01T00:00:00",
          "2010-04-01T00:00:00",
          "2010-05-01T00:00:00",
          "2010-06-01T00:00:00",
          "2010-07-01T00:00:00",
          "2010-08-01T00:00:00",
          "2010-09-01T00:00:00",
          "2010-10-01T00:00:00",
          "2010-11-01T00:00:00",
          "2010-12-01T00:00:00",
          "2011-01-01T00:00:00",
          "2011-02-01T00:00:00",
          "2011-03-01T00:00:00",
          "2011-04-01T00:00:00",
          "2011-05-01T00:00:00",
          "2011-06-01T00:00:00",
          "2011-07-01T00:00:00",
          "2011-08-01T00:00:00",
          "2011-09-01T00:00:00",
          "2011-10-01T00:00:00",
          "2011-11-01T00:00:00",
          "2011-12-01T00:00:00",
          "2012-01-01T00:00:00",
          "2012-02-01T00:00:00",
          "2012-03-01T00:00:00",
          "2012-04-01T00:00:00",
          "2012-05-01T00:00:00",
          "2012-06-01T00:00:00",
          "2012-07-01T00:00:00",
          "2012-08-01T00:00:00",
          "2012-09-01T00:00:00",
          "2012-10-01T00:00:00",
          "2012-11-01T00:00:00",
          "2012-12-01T00:00:00",
          "2013-01-01T00:00:00",
          "2013-02-01T00:00:00",
          "2013-03-01T00:00:00",
          "2013-04-01T00:00:00",
          "2013-05-01T00:00:00",
          "2013-06-01T00:00:00",
          "2013-07-01T00:00:00",
          "2013-08-01T00:00:00",
          "2013-09-01T00:00:00",
          "2013-10-01T00:00:00",
          "2013-11-01T00:00:00",
          "2013-12-01T00:00:00",
          "2014-01-01T00:00:00",
          "2014-02-01T00:00:00",
          "2014-03-01T00:00:00",
          "2014-04-01T00:00:00",
          "2014-05-01T00:00:00",
          "2014-06-01T00:00:00",
          "2014-07-01T00:00:00",
          "2014-08-01T00:00:00",
          "2014-09-01T00:00:00",
          "2014-10-01T00:00:00",
          "2014-11-01T00:00:00",
          "2014-12-01T00:00:00",
          "2015-01-01T00:00:00",
          "2015-02-01T00:00:00",
          "2015-03-01T00:00:00",
          "2015-04-01T00:00:00",
          "2015-05-01T00:00:00",
          "2015-06-01T00:00:00",
          "2015-07-01T00:00:00",
          "2015-08-01T00:00:00",
          "2015-09-01T00:00:00",
          "2015-10-01T00:00:00",
          "2015-11-01T00:00:00",
          "2015-12-01T00:00:00",
          "2016-01-01T00:00:00",
          "2016-02-01T00:00:00",
          "2016-03-01T00:00:00",
          "2016-04-01T00:00:00",
          "2016-05-01T00:00:00",
          "2016-06-01T00:00:00",
          "2016-07-01T00:00:00",
          "2016-08-01T00:00:00",
          "2016-09-01T00:00:00",
          "2016-10-01T00:00:00",
          "2016-11-01T00:00:00",
          "2016-12-01T00:00:00",
          "2017-01-01T00:00:00",
          "2017-02-01T00:00:00",
          "2017-03-01T00:00:00",
          "2017-04-01T00:00:00",
          "2017-05-01T00:00:00",
          "2017-06-01T00:00:00",
          "2017-07-01T00:00:00",
          "2017-08-01T00:00:00",
          "2017-09-01T00:00:00",
          "2017-10-01T00:00:00",
          "2017-11-01T00:00:00",
          "2017-12-01T00:00:00",
          "2018-01-01T00:00:00",
          "2018-02-01T00:00:00",
          "2018-03-01T00:00:00",
          "2018-04-01T00:00:00",
          "2018-05-01T00:00:00",
          "2018-06-01T00:00:00",
          "2018-07-01T00:00:00",
          "2018-08-01T00:00:00",
          "2018-09-01T00:00:00",
          "2018-10-01T00:00:00",
          "2018-11-01T00:00:00",
          "2018-12-01T00:00:00",
          "2019-01-01T00:00:00",
          "2019-02-01T00:00:00",
          "2019-03-01T00:00:00",
          "2019-04-01T00:00:00",
          "2019-05-01T00:00:00",
          "2019-06-01T00:00:00",
          "2019-07-01T00:00:00",
          "2019-08-01T00:00:00",
          "2019-09-01T00:00:00",
          "2019-10-01T00:00:00",
          "2019-11-01T00:00:00",
          "2019-12-01T00:00:00",
          "2020-01-01T00:00:00",
          "2020-02-01T00:00:00",
          "2020-03-01T00:00:00",
          "2020-04-01T00:00:00",
          "2020-05-01T00:00:00",
          "2020-06-01T00:00:00",
          "2020-07-01T00:00:00",
          "2020-08-01T00:00:00",
          "2020-09-01T00:00:00",
          "2020-10-01T00:00:00",
          "2020-11-01T00:00:00",
          "2020-12-01T00:00:00",
          "2021-01-01T00:00:00",
          "2021-02-01T00:00:00",
          "2021-03-01T00:00:00",
          "2021-04-01T00:00:00",
          "2021-05-01T00:00:00",
          "2021-06-01T00:00:00"
         ],
         "xaxis": "x",
         "y": [
          "Exportaciones  ",
          "      Minería",
          "      Agropecuario-silvícola y pesquero",
          "      Industriales"
         ],
         "yaxis": "y",
         "z": [
          [
           1,
           "Exportaciones  ",
           3651.80849692495,
           3435.95420738657,
           4298.75394258631,
           4367.54291412886,
           4278.9118486886,
           4446.65066747502,
           4750.69779286385,
           4671.37362813302,
           4403.69727807441,
           5744.33456291571,
           5316.96138251228,
           6095.98475960709,
           5067.48756203163,
           5004.14265261865,
           5544.00374822544,
           5361.02776135559,
           5673.54900562434,
           5364.49611811767,
           6005.98994409771,
           6322.50525306277,
           6140.25125632428,
           6342.72958231188,
           6521.78205780658,
           7760.56393420219,
           6490.45265289185,
           6003.58406347181,
           7719.00300335978,
           7265.08069112281,
           7408.3750318785,
           6697.25774190935,
           6386.91679321128,
           6347.79550902662,
           6540.6084619021,
           6679.77403352891,
           6750.51463693776,
           7148.48123533556,
           6466.18279704602,
           6330.67030421101,
           7067.4470019358,
           6567.7175959132,
           6420.29536703274,
           6762.68026325066,
           5933.64298672135,
           5779.98360197075,
           5692.74297979709,
           7368.37783915524,
           6546.3894345877,
           7126.8600452036,
           6821.89947789863,
           5575.72134893878,
           6188.53297040344,
           6772.8869515938,
           7021.13233825523,
           6348.79134460119,
           6428.86232661,
           6420.73250826909,
           5840.9163342783,
           6987.30263572135,
           6068.15849605854,
           6295.00041571819,
           5490.69039002478,
           6188.57572296701,
           7292.41510651577,
           6670.11246242753,
           6906.39288387318,
           6125.43141251372,
           6257.79847733466,
           5857.99043552999,
           5775.9515960463,
           6073.47579872048,
           5588.07700434073,
           6837.78653931326,
           5979.8378533772,
           5122.45279538724,
           6001.87606237167,
           5801.36672948166,
           4987.68417578998,
           5298.09670100126,
           4939.29563107101,
           4655.1916571474,
           4640.99808266827,
           4702.93188536291,
           4800.03681747218,
           5105.32191862917,
           5099.24084368818,
           4801.59386659919,
           5169.86650947384,
           5062.40852029751,
           5101.38500256798,
           4646.81327663781,
           4599.67000141928,
           4977.34107695909,
           4938.78938591778,
           4790.82150488403,
           5248.3947282602,
           6282.00763726488,
           5553.53619521038,
           4627.42102390569,
           5495.40851342308,
           5044.42514123748,
           5770.63740454111,
           5565.58119859821,
           5453.32503840417,
           6230.70493491168,
           5874.88230262292,
           6056.0877996906,
           6126.70470886508,
           7024.48124848712,
           6620.02979470775,
           6275.11308724566,
           6481.91467937263,
           6257.05975922712,
           6465.72647954527,
           6200.51681212645,
           5972.42956350058,
           6165.5994020678,
           5443.25985025408,
           6466.1141626828,
           5899.4877351614,
           6461.11957832889,
           6713.71993739837,
           5448.119312797,
           6080.37718666393,
           5697.89319645701,
           6128.39269596533,
           5191.69546658728,
           5612.99604077207,
           5906.60474180047,
           5186.32037279306,
           5153.10831344863,
           5216.71383949258,
           6426.62248640321,
           6510.13766781516,
           4971.77319831154,
           5716.54198480818,
           5849.72428276461,
           5868.35740832228,
           6127.30746798606,
           6238.31912708948,
           5779.24731074822,
           5969.78590249478,
           6455.18236371567,
           6571.60789236519,
           7427.15207965262,
           7094.46558289411,
           7141.93083337498,
           7660.78496508302,
           8114.45534713357,
           7920.04732462611,
           7445.4715520452
          ],
          [
           2,
           "      Minería",
           1528.53743325106,
           1633.89731374593,
           2069.91375733367,
           2209.8226773062,
           2458.91635935666,
           2567.52998957181,
           2840.57090093588,
           2825.10467330269,
           2523.7501988319,
           3791.06913350293,
           3413.26371252457,
           4014.76162651366,
           2762.47540608418,
           3035.28021472617,
           3512.85513484618,
           3129.94388796437,
           3350.51463810111,
           3195.35005871007,
           3706.03777782592,
           3976.16808231221,
           4073.27779370967,
           4126.35572914681,
           4300.79091166216,
           5382.80215309506,
           3801.66158060559,
           3644.51231802472,
           4738.80563611996,
           4266.65821510984,
           4354.39400603562,
           4265.10721830965,
           3769.92073714906,
           3544.04638405316,
           3924.45590202837,
           4181.61858865821,
           4103.13211045347,
           4489.17618958548,
           3609.24272700486,
           3731.54438073358,
           3893.30869352187,
           3595.53168676824,
           3570.66659628128,
           4043.26063063617,
           3500.43472434998,
           3218.19630145652,
           3573.38203709029,
           4811.41405055896,
           4084.61456155163,
           4628.79248207146,
           3722.19030754539,
           3238.6783108839,
           3037.54662020767,
           3791.55467308255,
           3820.13649415316,
           3602.19969183569,
           3641.34481061053,
           3761.19158441029,
           3637.80782193848,
           4161.01995361808,
           3573.05063531983,
           3713.54756716811,
           2507.55093064032,
           3823.05559991118,
           3866.09454064998,
           3409.04011594005,
           3659.38755940231,
           3325.59750063954,
           3404.78577167059,
           3132.11213692339,
           3219.22391371447,
           3250.10910846782,
           3065.91271001586,
           3774.6126793469,
           3033.84784924,
           2684.13395572,
           3007.43492118216,
           2976.91683208554,
           2690.69258635,
           3017.09949825,
           2344.6985073407,
           2406.84423726982,
           2417.45998896198,
           2409.26930625277,
           2632.20571606009,
           2718.90698446,
           2181.38529,
           2510.94330840034,
           2494.81568863626,
           2346.32432,
           2476.733293,
           2344.829869,
           2336.93600215576,
           2426.16879293978,
           2726.07672125267,
           2688.60627410293,
           2904.01654841609,
           3260.70859663561,
           2634.64950550544,
           2214.673283,
           2560.57318892946,
           2501.62212925203,
           2935.71847776597,
           3120.346478,
           2913.58193054855,
           3392.62516481747,
           3429.63373603483,
           3592.08003593921,
           3608.18082650724,
           4235.55148434041,
           2874.6688575892,
           3362.8493827998,
           3417.66408439899,
           3225.9297404913,
           3416.36875858033,
           3289.775964,
           3145.48936349529,
           2985.5183340468,
           3069.19304542795,
           3437.86618513714,
           3222.94351457915,
           3682.1115713922,
           2737.99478604717,
           2722.65762329045,
           3040.15368676877,
           2790.63525541009,
           3141.39042895961,
           2756.90117,
           2807.96979698362,
           3259.02926775414,
           2913.93447241944,
           2761.47799613764,
           2959.43026259733,
           3448.09793010753,
           2806.81542871229,
           2538.30384757452,
           3011.87514130531,
           2998.58649605338,
           3196.89214161672,
           3420.70932514637,
           3835.37551119623,
           3448.73543508105,
           3777.22201160692,
           4047.38194654655,
           4269.99379138444,
           4418.5750040302,
           3552.4058816243,
           4415.86611716002,
           4887.20195747217,
           5011.22775604476,
           5332.93361569665,
           4794.41760629191
          ],
          [
           12,
           "      Agropecuario-silvícola y pesquero",
           403.7964503016,
           401.090333506265,
           664.147838684754,
           631.49415082684,
           341.773444573082,
           219.069399455467,
           204.878329993827,
           171.549117189589,
           155.314199996574,
           113.8922440937,
           78.6204257173139,
           282.138972449254,
           532.481607607461,
           449.071869125599,
           601.987366638346,
           718.68446541259,
           531.145863245708,
           323.23983252511,
           257.700373889025,
           213.350981899968,
           162.873404804171,
           138.149356125485,
           120.582631181024,
           322.473200967385,
           628.369739705956,
           492.451345246892,
           699.555946580893,
           793.099029690651,
           612.184594573902,
           350.076262756495,
           254.31653905915,
           272.916722205593,
           204.437009520699,
           143.706541572153,
           138.553564078015,
           379.508190305375,
           637.23805431,
           538.894631469618,
           827.03215047,
           816.831583097322,
           494.079238197007,
           365.988059312082,
           294.129035219129,
           253.856394843687,
           156.359655203184,
           146.408080703264,
           131.619307290959,
           356.36000172,
           728.385522887356,
           502.501917336921,
           710.970527637597,
           945.950455917766,
           722.064812406518,
           464.0236759245,
           398.9481219309,
           255.590811493778,
           182.921109183262,
           189.640577566734,
           148.250033395975,
           397.96862551663,
           795.137651240072,
           538.060116120522,
           811.278604530689,
           885.855792355519,
           603.777873795723,
           374.434010405287,
           344.200893060518,
           229.988097326871,
           200.086024281756,
           156.651782093302,
           147.741834523944,
           533.468344925518,
           786.604684130512,
           562.754258195468,
           728.262135163605,
           742.842652544145,
           423.852723296662,
           390.07699158489,
           339.636401665626,
           227.849484053164,
           211.273785155386,
           169.244940897319,
           168.646454012425,
           443.03358210571,
           943.735434858906,
           600.516283766953,
           695.906130565274,
           723.187036088406,
           568.438172351178,
           368.963928859076,
           311.414378874148,
           284.927366901198,
           251.667106224792,
           216.928671708977,
           217.467771552943,
           699.162293751826,
           740.634237955489,
           527.255423301645,
           738.875115343818,
           651.170920061044,
           592.352560942735,
           440.480172120976,
           354.162448849533,
           402.31688590287,
           315.030690872296,
           252.674068600611,
           210.42306658609,
           516.411385787159,
           1179.34357553257,
           712.637852970166,
           708.170001135849,
           739.412986364793,
           614.629599333114,
           483.9367425998,
           405.488071684988,
           369.123969420823,
           253.109608678507,
           283.256716059926,
           190.305526049373,
           546.171538929646,
           1424.30826098097,
           635.373992663918,
           696.915818031811,
           736.009178860654,
           622.285862878766,
           403.274565545749,
           429.240735181017,
           344.717945563611,
           284.300289161005,
           229.367728880684,
           194.920816785893,
           785.650959426138,
           1345.5616449001,
           599.140851480676,
           667.939757404537,
           609.507713721556,
           448.791676993307,
           384.052729169068,
           379.167178011784,
           330.498850456135,
           273.840999823849,
           290.139599728845,
           189.698145317212,
           844.351459293628,
           1415.33512695788,
           807.200083289038,
           603.57684022406,
           579.73131061462,
           388.186804193134,
           432.419803718536
          ],
          [
           27,
           "      Industriales",
           1719.47461337229,
           1400.96656013437,
           1564.69234656789,
           1526.22608599582,
           1478.22204475885,
           1660.05127844773,
           1705.24856193415,
           1674.71983764074,
           1724.63287924594,
           1839.37318531909,
           1825.0772442704,
           1799.08416064417,
           1772.53054833998,
           1519.79056876688,
           1429.16124674092,
           1512.39940797862,
           1791.88850427752,
           1845.90622688249,
           2042.25179238276,
           2132.98618885059,
           1904.10005781044,
           2078.22449703959,
           2100.40851496339,
           2055.28858013974,
           2060.4213325803,
           1866.6204002002,
           2280.64142065894,
           2205.32344632232,
           2441.79643126898,
           2082.0742608432,
           2362.67951700307,
           2530.83240276786,
           2411.71555035303,
           2354.44890329855,
           2508.82896240628,
           2279.79685544471,
           2219.70201573116,
           2060.2312920078,
           2347.10615794393,
           2155.35432604764,
           2355.54953255445,
           2353.4315733024,
           2139.07922715224,
           2307.93090567054,
           1963.00128750362,
           2410.55570789302,
           2330.15556574511,
           2141.70756141214,
           2371.32364746589,
           1834.54112071796,
           2440.01582255818,
           2035.38182259349,
           2478.93103169555,
           2282.567976841,
           2388.56939406857,
           2403.95011236502,
           2020.18740315656,
           2636.64210453654,
           2346.85782734274,
           2183.48422303345,
           2188.00180814439,
           1827.46000693531,
           2615.0419613351,
           2375.21655413196,
           2643.22745067514,
           2425.39990146889,
           2508.81181260355,
           2495.89020127973,
           2356.64165805007,
           2666.71490815936,
           2374.42245980093,
           2529.70551504084,
           2159.38532000669,
           1875.56458147177,
           2266.17900602591,
           2081.60724485198,
           1873.13886614332,
           1890.92021116637,
           2254.96072206469,
           2020.49793582441,
           2012.26430855091,
           2124.41763821282,
           1999.18464739967,
           1943.38135206346,
           1974.12011882927,
           1690.1342744319,
           1979.1446902723,
           1992.8971642091,
           2056.21353721681,
           1933.01947877874,
           1951.31962038936,
           2266.24491711811,
           1961.04555844031,
           1885.28655907212,
           2126.91040829117,
           2322.13674687745,
           2178.25245174946,
           1885.49231760404,
           2195.9602091498,
           1891.6320919244,
           2242.5663658324,
           2004.75454847723,
           2185.58065900608,
           2435.76288419134,
           2130.2178757158,
           2211.33369515078,
           2308.10081577176,
           2272.51837835956,
           2566.01736158597,
           2199.62585147571,
           2356.0805938378,
           2291.71703237102,
           2434.72812163182,
           2426.80410552665,
           2421.45212832029,
           2810.95709860018,
           2120.95719614762,
           2744.99126148574,
           2486.23869453288,
           2232.83646800705,
           2551.41689037022,
           2090.08769684264,
           2343.30768186334,
           2171.24876218626,
           2364.71640412695,
           2031.51973104153,
           2375.78550860743,
           2302.85752848272,
           1988.08561121262,
           2162.26258843031,
           2062.36276010935,
           2192.87359686954,
           2357.76059420275,
           1834.32849925634,
           2036.72708609833,
           2241.63007298967,
           2222.67358971224,
           2322.54541367063,
           2023.77643788146,
           2000.01302521103,
           1918.72289106402,
           2117.66081744028,
           2111.91595566354,
           2164.22561632879,
           2126.72457431193,
           1918.86463292592,
           2170.00616738678,
           2523.49628047419,
           2198.92690473633,
           2218.63414203476
          ]
         ]
        }
       ],
       "layout": {
        "coloraxis": {
         "colorbar": {
          "title": {
           "text": "Exportaciones"
          }
         },
         "colorscale": [
          [
           0,
           "rgb(51, 19, 23)"
          ],
          [
           0.09090909090909091,
           "rgb(79, 28, 33)"
          ],
          [
           0.18181818181818182,
           "rgb(108, 36, 36)"
          ],
          [
           0.2727272727272727,
           "rgb(135, 47, 32)"
          ],
          [
           0.36363636363636365,
           "rgb(157, 66, 25)"
          ],
          [
           0.45454545454545453,
           "rgb(174, 88, 20)"
          ],
          [
           0.5454545454545454,
           "rgb(188, 111, 19)"
          ],
          [
           0.6363636363636364,
           "rgb(199, 137, 22)"
          ],
          [
           0.7272727272727273,
           "rgb(209, 164, 32)"
          ],
          [
           0.8181818181818182,
           "rgb(217, 192, 44)"
          ],
          [
           0.9090909090909091,
           "rgb(222, 222, 59)"
          ],
          [
           1,
           "rgb(224, 253, 74)"
          ]
         ]
        },
        "height": 800,
        "margin": {
         "t": 60
        },
        "template": {
         "data": {
          "bar": [
           {
            "error_x": {
             "color": "#2a3f5f"
            },
            "error_y": {
             "color": "#2a3f5f"
            },
            "marker": {
             "line": {
              "color": "#E5ECF6",
              "width": 0.5
             },
             "pattern": {
              "fillmode": "overlay",
              "size": 10,
              "solidity": 0.2
             }
            },
            "type": "bar"
           }
          ],
          "barpolar": [
           {
            "marker": {
             "line": {
              "color": "#E5ECF6",
              "width": 0.5
             },
             "pattern": {
              "fillmode": "overlay",
              "size": 10,
              "solidity": 0.2
             }
            },
            "type": "barpolar"
           }
          ],
          "carpet": [
           {
            "aaxis": {
             "endlinecolor": "#2a3f5f",
             "gridcolor": "white",
             "linecolor": "white",
             "minorgridcolor": "white",
             "startlinecolor": "#2a3f5f"
            },
            "baxis": {
             "endlinecolor": "#2a3f5f",
             "gridcolor": "white",
             "linecolor": "white",
             "minorgridcolor": "white",
             "startlinecolor": "#2a3f5f"
            },
            "type": "carpet"
           }
          ],
          "choropleth": [
           {
            "colorbar": {
             "outlinewidth": 0,
             "ticks": ""
            },
            "type": "choropleth"
           }
          ],
          "contour": [
           {
            "colorbar": {
             "outlinewidth": 0,
             "ticks": ""
            },
            "colorscale": [
             [
              0,
              "#0d0887"
             ],
             [
              0.1111111111111111,
              "#46039f"
             ],
             [
              0.2222222222222222,
              "#7201a8"
             ],
             [
              0.3333333333333333,
              "#9c179e"
             ],
             [
              0.4444444444444444,
              "#bd3786"
             ],
             [
              0.5555555555555556,
              "#d8576b"
             ],
             [
              0.6666666666666666,
              "#ed7953"
             ],
             [
              0.7777777777777778,
              "#fb9f3a"
             ],
             [
              0.8888888888888888,
              "#fdca26"
             ],
             [
              1,
              "#f0f921"
             ]
            ],
            "type": "contour"
           }
          ],
          "contourcarpet": [
           {
            "colorbar": {
             "outlinewidth": 0,
             "ticks": ""
            },
            "type": "contourcarpet"
           }
          ],
          "heatmap": [
           {
            "colorbar": {
             "outlinewidth": 0,
             "ticks": ""
            },
            "colorscale": [
             [
              0,
              "#0d0887"
             ],
             [
              0.1111111111111111,
              "#46039f"
             ],
             [
              0.2222222222222222,
              "#7201a8"
             ],
             [
              0.3333333333333333,
              "#9c179e"
             ],
             [
              0.4444444444444444,
              "#bd3786"
             ],
             [
              0.5555555555555556,
              "#d8576b"
             ],
             [
              0.6666666666666666,
              "#ed7953"
             ],
             [
              0.7777777777777778,
              "#fb9f3a"
             ],
             [
              0.8888888888888888,
              "#fdca26"
             ],
             [
              1,
              "#f0f921"
             ]
            ],
            "type": "heatmap"
           }
          ],
          "heatmapgl": [
           {
            "colorbar": {
             "outlinewidth": 0,
             "ticks": ""
            },
            "colorscale": [
             [
              0,
              "#0d0887"
             ],
             [
              0.1111111111111111,
              "#46039f"
             ],
             [
              0.2222222222222222,
              "#7201a8"
             ],
             [
              0.3333333333333333,
              "#9c179e"
             ],
             [
              0.4444444444444444,
              "#bd3786"
             ],
             [
              0.5555555555555556,
              "#d8576b"
             ],
             [
              0.6666666666666666,
              "#ed7953"
             ],
             [
              0.7777777777777778,
              "#fb9f3a"
             ],
             [
              0.8888888888888888,
              "#fdca26"
             ],
             [
              1,
              "#f0f921"
             ]
            ],
            "type": "heatmapgl"
           }
          ],
          "histogram": [
           {
            "marker": {
             "pattern": {
              "fillmode": "overlay",
              "size": 10,
              "solidity": 0.2
             }
            },
            "type": "histogram"
           }
          ],
          "histogram2d": [
           {
            "colorbar": {
             "outlinewidth": 0,
             "ticks": ""
            },
            "colorscale": [
             [
              0,
              "#0d0887"
             ],
             [
              0.1111111111111111,
              "#46039f"
             ],
             [
              0.2222222222222222,
              "#7201a8"
             ],
             [
              0.3333333333333333,
              "#9c179e"
             ],
             [
              0.4444444444444444,
              "#bd3786"
             ],
             [
              0.5555555555555556,
              "#d8576b"
             ],
             [
              0.6666666666666666,
              "#ed7953"
             ],
             [
              0.7777777777777778,
              "#fb9f3a"
             ],
             [
              0.8888888888888888,
              "#fdca26"
             ],
             [
              1,
              "#f0f921"
             ]
            ],
            "type": "histogram2d"
           }
          ],
          "histogram2dcontour": [
           {
            "colorbar": {
             "outlinewidth": 0,
             "ticks": ""
            },
            "colorscale": [
             [
              0,
              "#0d0887"
             ],
             [
              0.1111111111111111,
              "#46039f"
             ],
             [
              0.2222222222222222,
              "#7201a8"
             ],
             [
              0.3333333333333333,
              "#9c179e"
             ],
             [
              0.4444444444444444,
              "#bd3786"
             ],
             [
              0.5555555555555556,
              "#d8576b"
             ],
             [
              0.6666666666666666,
              "#ed7953"
             ],
             [
              0.7777777777777778,
              "#fb9f3a"
             ],
             [
              0.8888888888888888,
              "#fdca26"
             ],
             [
              1,
              "#f0f921"
             ]
            ],
            "type": "histogram2dcontour"
           }
          ],
          "mesh3d": [
           {
            "colorbar": {
             "outlinewidth": 0,
             "ticks": ""
            },
            "type": "mesh3d"
           }
          ],
          "parcoords": [
           {
            "line": {
             "colorbar": {
              "outlinewidth": 0,
              "ticks": ""
             }
            },
            "type": "parcoords"
           }
          ],
          "pie": [
           {
            "automargin": true,
            "type": "pie"
           }
          ],
          "scatter": [
           {
            "marker": {
             "colorbar": {
              "outlinewidth": 0,
              "ticks": ""
             }
            },
            "type": "scatter"
           }
          ],
          "scatter3d": [
           {
            "line": {
             "colorbar": {
              "outlinewidth": 0,
              "ticks": ""
             }
            },
            "marker": {
             "colorbar": {
              "outlinewidth": 0,
              "ticks": ""
             }
            },
            "type": "scatter3d"
           }
          ],
          "scattercarpet": [
           {
            "marker": {
             "colorbar": {
              "outlinewidth": 0,
              "ticks": ""
             }
            },
            "type": "scattercarpet"
           }
          ],
          "scattergeo": [
           {
            "marker": {
             "colorbar": {
              "outlinewidth": 0,
              "ticks": ""
             }
            },
            "type": "scattergeo"
           }
          ],
          "scattergl": [
           {
            "marker": {
             "colorbar": {
              "outlinewidth": 0,
              "ticks": ""
             }
            },
            "type": "scattergl"
           }
          ],
          "scattermapbox": [
           {
            "marker": {
             "colorbar": {
              "outlinewidth": 0,
              "ticks": ""
             }
            },
            "type": "scattermapbox"
           }
          ],
          "scatterpolar": [
           {
            "marker": {
             "colorbar": {
              "outlinewidth": 0,
              "ticks": ""
             }
            },
            "type": "scatterpolar"
           }
          ],
          "scatterpolargl": [
           {
            "marker": {
             "colorbar": {
              "outlinewidth": 0,
              "ticks": ""
             }
            },
            "type": "scatterpolargl"
           }
          ],
          "scatterternary": [
           {
            "marker": {
             "colorbar": {
              "outlinewidth": 0,
              "ticks": ""
             }
            },
            "type": "scatterternary"
           }
          ],
          "surface": [
           {
            "colorbar": {
             "outlinewidth": 0,
             "ticks": ""
            },
            "colorscale": [
             [
              0,
              "#0d0887"
             ],
             [
              0.1111111111111111,
              "#46039f"
             ],
             [
              0.2222222222222222,
              "#7201a8"
             ],
             [
              0.3333333333333333,
              "#9c179e"
             ],
             [
              0.4444444444444444,
              "#bd3786"
             ],
             [
              0.5555555555555556,
              "#d8576b"
             ],
             [
              0.6666666666666666,
              "#ed7953"
             ],
             [
              0.7777777777777778,
              "#fb9f3a"
             ],
             [
              0.8888888888888888,
              "#fdca26"
             ],
             [
              1,
              "#f0f921"
             ]
            ],
            "type": "surface"
           }
          ],
          "table": [
           {
            "cells": {
             "fill": {
              "color": "#EBF0F8"
             },
             "line": {
              "color": "white"
             }
            },
            "header": {
             "fill": {
              "color": "#C8D4E3"
             },
             "line": {
              "color": "white"
             }
            },
            "type": "table"
           }
          ]
         },
         "layout": {
          "annotationdefaults": {
           "arrowcolor": "#2a3f5f",
           "arrowhead": 0,
           "arrowwidth": 1
          },
          "autotypenumbers": "strict",
          "coloraxis": {
           "colorbar": {
            "outlinewidth": 0,
            "ticks": ""
           }
          },
          "colorscale": {
           "diverging": [
            [
             0,
             "#8e0152"
            ],
            [
             0.1,
             "#c51b7d"
            ],
            [
             0.2,
             "#de77ae"
            ],
            [
             0.3,
             "#f1b6da"
            ],
            [
             0.4,
             "#fde0ef"
            ],
            [
             0.5,
             "#f7f7f7"
            ],
            [
             0.6,
             "#e6f5d0"
            ],
            [
             0.7,
             "#b8e186"
            ],
            [
             0.8,
             "#7fbc41"
            ],
            [
             0.9,
             "#4d9221"
            ],
            [
             1,
             "#276419"
            ]
           ],
           "sequential": [
            [
             0,
             "#0d0887"
            ],
            [
             0.1111111111111111,
             "#46039f"
            ],
            [
             0.2222222222222222,
             "#7201a8"
            ],
            [
             0.3333333333333333,
             "#9c179e"
            ],
            [
             0.4444444444444444,
             "#bd3786"
            ],
            [
             0.5555555555555556,
             "#d8576b"
            ],
            [
             0.6666666666666666,
             "#ed7953"
            ],
            [
             0.7777777777777778,
             "#fb9f3a"
            ],
            [
             0.8888888888888888,
             "#fdca26"
            ],
            [
             1,
             "#f0f921"
            ]
           ],
           "sequentialminus": [
            [
             0,
             "#0d0887"
            ],
            [
             0.1111111111111111,
             "#46039f"
            ],
            [
             0.2222222222222222,
             "#7201a8"
            ],
            [
             0.3333333333333333,
             "#9c179e"
            ],
            [
             0.4444444444444444,
             "#bd3786"
            ],
            [
             0.5555555555555556,
             "#d8576b"
            ],
            [
             0.6666666666666666,
             "#ed7953"
            ],
            [
             0.7777777777777778,
             "#fb9f3a"
            ],
            [
             0.8888888888888888,
             "#fdca26"
            ],
            [
             1,
             "#f0f921"
            ]
           ]
          },
          "colorway": [
           "#636efa",
           "#EF553B",
           "#00cc96",
           "#ab63fa",
           "#FFA15A",
           "#19d3f3",
           "#FF6692",
           "#B6E880",
           "#FF97FF",
           "#FECB52"
          ],
          "font": {
           "color": "#2a3f5f"
          },
          "geo": {
           "bgcolor": "white",
           "lakecolor": "white",
           "landcolor": "#E5ECF6",
           "showlakes": true,
           "showland": true,
           "subunitcolor": "white"
          },
          "hoverlabel": {
           "align": "left"
          },
          "hovermode": "closest",
          "mapbox": {
           "style": "light"
          },
          "paper_bgcolor": "white",
          "plot_bgcolor": "#E5ECF6",
          "polar": {
           "angularaxis": {
            "gridcolor": "white",
            "linecolor": "white",
            "ticks": ""
           },
           "bgcolor": "#E5ECF6",
           "radialaxis": {
            "gridcolor": "white",
            "linecolor": "white",
            "ticks": ""
           }
          },
          "scene": {
           "xaxis": {
            "backgroundcolor": "#E5ECF6",
            "gridcolor": "white",
            "gridwidth": 2,
            "linecolor": "white",
            "showbackground": true,
            "ticks": "",
            "zerolinecolor": "white"
           },
           "yaxis": {
            "backgroundcolor": "#E5ECF6",
            "gridcolor": "white",
            "gridwidth": 2,
            "linecolor": "white",
            "showbackground": true,
            "ticks": "",
            "zerolinecolor": "white"
           },
           "zaxis": {
            "backgroundcolor": "#E5ECF6",
            "gridcolor": "white",
            "gridwidth": 2,
            "linecolor": "white",
            "showbackground": true,
            "ticks": "",
            "zerolinecolor": "white"
           }
          },
          "shapedefaults": {
           "line": {
            "color": "#2a3f5f"
           }
          },
          "ternary": {
           "aaxis": {
            "gridcolor": "white",
            "linecolor": "white",
            "ticks": ""
           },
           "baxis": {
            "gridcolor": "white",
            "linecolor": "white",
            "ticks": ""
           },
           "bgcolor": "#E5ECF6",
           "caxis": {
            "gridcolor": "white",
            "linecolor": "white",
            "ticks": ""
           }
          },
          "title": {
           "x": 0.05
          },
          "xaxis": {
           "automargin": true,
           "gridcolor": "white",
           "linecolor": "white",
           "ticks": "",
           "title": {
            "standoff": 15
           },
           "zerolinecolor": "white",
           "zerolinewidth": 2
          },
          "yaxis": {
           "automargin": true,
           "gridcolor": "white",
           "linecolor": "white",
           "ticks": "",
           "title": {
            "standoff": 15
           },
           "zerolinecolor": "white",
           "zerolinewidth": 2
          }
         }
        },
        "width": 1200,
        "xaxis": {
         "anchor": "y",
         "domain": [
          0,
          1
         ],
         "title": {
          "text": "Fechas"
         }
        },
        "yaxis": {
         "anchor": "x",
         "autorange": "reversed",
         "domain": [
          0,
          1
         ],
         "title": {
          "text": "Categorias"
         }
        }
       }
      }
     },
     "metadata": {},
     "output_type": "display_data"
    }
   ],
   "source": [
    "#importamos plotly\n",
    "from plotly.subplots import make_subplots\n",
    "import plotly.graph_objects as go\n",
    "\n",
    "'''\n",
    "graph1\n",
    "'''\n",
    "fig = make_subplots(rows=2, cols=2)\n",
    "\n",
    "#se preparan los datos\n",
    "imacecData = go.Scatter(\n",
    "    x=innerJoin['Ano'],\n",
    "    y=innerJoin[\"Imacec\"],\n",
    "    name=\"Imacec\",\n",
    "    line_color='darkviolet')\n",
    "\n",
    "asalariadosData = go.Scatter(\n",
    "    x=innerJoin['Ano'],\n",
    "    y=innerJoin[\"asalariados\"],\n",
    "    name=\"Asalariados\",\n",
    "    line_color= 'maroon')\n",
    "\n",
    "indepData = go.Scatter(\n",
    "    x=innerJoin['Ano'],\n",
    "    y=innerJoin[\"independientes\"],\n",
    "    name=\"Independientes\",\n",
    "    line_color= 'cyan')\n",
    "\n",
    "data = [imacecData, asalariadosData, indepData]\n",
    "\n",
    "#se grafica\n",
    "layout = go.Layout(\n",
    "    yaxis=dict(\n",
    "        domain=[0, 1]\n",
    "    ),\n",
    "    legend=dict(\n",
    "        traceorder=\"reversed\"\n",
    "    ),\n",
    "    yaxis2=dict(\n",
    "        domain=[0.33, 0.66]\n",
    "    ),\n",
    "    yaxis3=dict(\n",
    "        domain=[0.66, 1]\n",
    "    ),\n",
    "    width=2000, height=800,\n",
    "    title = \"Variacion Anual de independientes, asalariados e Imacec\",\n",
    "    xaxis_title=\"Fecha\",\n",
    "    yaxis_title=\"Variacion Anual\")\n",
    "\n",
    "fig = go.Figure(data=data, layout=layout)\n",
    "fig.show()\n",
    "\n",
    "'''\n",
    "graph2\n",
    "'''\n",
    "#debemos filtrar los datos\n",
    "impData = DF_IMP.iloc[0].iloc[2:]\n",
    "expData = DF_EXP.iloc[0].iloc[2:]\n",
    "\n",
    "#se prepran los datos\n",
    "dataDict = {\n",
    "    'imp' : impData,\n",
    "    'exp' : expData\n",
    "}\n",
    "dataDF = pd.DataFrame.from_dict(dataDict)\n",
    "\n",
    "#se grafica\n",
    "fig2 = px.scatter(\n",
    "    dataDF,\n",
    "    x=\"exp\",\n",
    "    y=\"imp\",\n",
    "    title = \"Scatter Exportaciones vs Importaciones \",\n",
    "    width=800, height=800,\n",
    "    color_discrete_sequence= ['#ffa500']\n",
    ")\n",
    "fig2.update_layout(shapes = [{'type': 'line', 'yref': 'paper', 'xref': 'paper', 'y0': 0, 'y1': 1, 'x0': 0, 'x1': 1}])\n",
    "fig2.show()\n",
    "\n",
    "'''\n",
    "graph3\n",
    "'''\n",
    "#filtramos los datos\n",
    "dataRaw = DF_EXP.loc[[0,1,11,26]]\n",
    "\n",
    "#se preparan los datos\n",
    "heatMapDict = {\n",
    "    'categorias' : dataRaw['Descripción series'],\n",
    "    'fechas' : dataRaw.columns[2:]\n",
    "}\n",
    "print(px.colors.qualitative.Plotly)\n",
    "#graficamos\n",
    "fig3 = px.imshow(\n",
    "    dataRaw,\n",
    "    x=dataRaw.columns,\n",
    "    y=dataRaw['Descripción series'],\n",
    "    text_auto=True,\n",
    "    aspect=\"auto\",\n",
    "    labels=dict(x=\"Fechas\", y=\"Categorias\", color=\"Exportaciones\"),\n",
    "    width=1200, height=800,\n",
    "    color_continuous_scale ='solar'\n",
    "    )\n",
    "fig3.show()"
   ]
  },
  {
   "cell_type": "code",
   "execution_count": null,
   "metadata": {},
   "outputs": [],
   "source": []
  }
 ],
 "metadata": {
  "interpreter": {
   "hash": "3ff454d5a844138a1867bab940165670903ed05c41863bab8291c02949c6e342"
  },
  "kernelspec": {
   "display_name": "Python 3",
   "language": "python",
   "name": "python3"
  },
  "language_info": {
   "codemirror_mode": {
    "name": "ipython",
    "version": 3
   },
   "file_extension": ".py",
   "mimetype": "text/x-python",
   "name": "python",
   "nbconvert_exporter": "python",
   "pygments_lexer": "ipython3",
   "version": "3.9.7"
  }
 },
 "nbformat": 4,
 "nbformat_minor": 4
}
